{
 "cells": [
  {
   "cell_type": "code",
   "execution_count": 1,
   "id": "c1ee7621",
   "metadata": {},
   "outputs": [],
   "source": [
    "import numpy as np\n",
    "import pandas as pd\n",
    "import matplotlib.pyplot as plt\n",
    "\n",
    "# import ROOT\n",
    "import uproot\n",
    "import astropy.io.fits as fits"
   ]
  },
  {
   "cell_type": "code",
   "execution_count": 2,
   "id": "7b141f04",
   "metadata": {
    "scrolled": false
   },
   "outputs": [
    {
     "data": {
      "text/plain": [
       "['hitSumm;1', 'config;1']"
      ]
     },
     "execution_count": 2,
     "metadata": {},
     "output_type": "execute_result"
    }
   ],
   "source": [
    "# ubicación de los archivos de entrada y salida\n",
    "root_folder = r'./datos_root/'\n",
    "fits_folder = './datos_fits/'\n",
    "png_folder = './datos_png/'\n",
    "filename = 'hpix_ndc_qcalib_catalog_data_13014_to_13213_v4.0.root'\n",
    "\n",
    "# lee el archivo root\n",
    "# file = ROOT.TFile.Open(root_folder+filename)\n",
    "# for tree in file.GetListOfKeys():\n",
    "#     print(tree)\n",
    "file = uproot.open(root_folder+filename)\n",
    "file.keys()"
   ]
  },
  {
   "cell_type": "code",
   "execution_count": 3,
   "id": "4aacb9ea",
   "metadata": {
    "scrolled": false
   },
   "outputs": [
    {
     "name": "stdout",
     "output_type": "stream",
     "text": [
      "5594133 entries\n",
      "\n",
      "name                 | typename                 | interpretation                \n",
      "---------------------+--------------------------+-------------------------------\n",
      "runID                | int32_t                  | AsDtype('>i4')\n",
      "ohdu                 | int32_t                  | AsDtype('>i4')\n",
      "expoStart            | int32_t                  | AsDtype('>i4')\n",
      "nSat                 | int32_t                  | AsDtype('>i4')\n",
      "flag                 | int32_t                  | AsDtype('>i4')\n",
      "xMin                 | int32_t                  | AsDtype('>i4')\n",
      "xMax                 | int32_t                  | AsDtype('>i4')\n",
      "yMin                 | int32_t                  | AsDtype('>i4')\n",
      "yMax                 | int32_t                  | AsDtype('>i4')\n",
      "E0                   | float                    | AsDtype('>f4')\n",
      "n0                   | float                    | AsDtype('>f4')\n",
      "xBary0               | float                    | AsDtype('>f4')\n",
      "yBary0               | float                    | AsDtype('>f4')\n",
      "xVar0                | float                    | AsDtype('>f4')\n",
      "yVar0                | float                    | AsDtype('>f4')\n",
      "E1                   | float                    | AsDtype('>f4')\n",
      "n1                   | float                    | AsDtype('>f4')\n",
      "xBary1               | float                    | AsDtype('>f4')\n",
      "yBary1               | float                    | AsDtype('>f4')\n",
      "xVar1                | float                    | AsDtype('>f4')\n",
      "yVar1                | float                    | AsDtype('>f4')\n",
      "E2                   | float                    | AsDtype('>f4')\n",
      "n2                   | float                    | AsDtype('>f4')\n",
      "xBary2               | float                    | AsDtype('>f4')\n",
      "yBary2               | float                    | AsDtype('>f4')\n",
      "xVar2                | float                    | AsDtype('>f4')\n",
      "yVar2                | float                    | AsDtype('>f4')\n",
      "E3                   | float                    | AsDtype('>f4')\n",
      "n3                   | float                    | AsDtype('>f4')\n",
      "xBary3               | float                    | AsDtype('>f4')\n",
      "yBary3               | float                    | AsDtype('>f4')\n",
      "xVar3                | float                    | AsDtype('>f4')\n",
      "yVar3                | float                    | AsDtype('>f4')\n",
      "nSavedPix            | int32_t                  | AsDtype('>i4')\n",
      "xPix                 | int32_t[]                | AsJagged(AsDtype('>i4'))\n",
      "yPix                 | int32_t[]                | AsJagged(AsDtype('>i4'))\n",
      "level                | int32_t[]                | AsJagged(AsDtype('>i4'))\n",
      "ePix                 | float[]                  | AsJagged(AsDtype('>f4'))\n",
      "gainCu               | float                    | AsDtype('>f4')\n",
      "gain3Peaks           | float                    | AsDtype('>f4')\n",
      "rawNoise             | float                    | AsDtype('>f4')\n",
      "rawDC                | float                    | AsDtype('>f4')\n",
      "scnNoise             | float                    | AsDtype('>f4')\n",
      "scnDC                | float                    | AsDtype('>f4')\n",
      "hPixFlag             | int32_t                  | AsDtype('>i4')\n"
     ]
    }
   ],
   "source": [
    "print(f'{file[\"hitSumm;1\"].num_entries} entries')\n",
    "print()\n",
    "file['hitSumm;1'].show()"
   ]
  },
  {
   "cell_type": "code",
   "execution_count": 4,
   "id": "a5273b91",
   "metadata": {},
   "outputs": [
    {
     "name": "stdout",
     "output_type": "stream",
     "text": [
      "name                 | typename                 | interpretation                \n",
      "---------------------+--------------------------+-------------------------------\n",
      "sigma                | float[101]               | AsDtype(\"('>f4', (101,))\")\n",
      "cal                  | float[101]               | AsDtype(\"('>f4', (101,))\")\n",
      "seedThr              | float                    | AsDtype('>f4')\n",
      "addThr               | float                    | AsDtype('>f4')\n",
      "skirtSize            | int32_t                  | AsDtype('>i4')\n",
      "stackSize            | int32_t                  | AsDtype('>i4')\n",
      "hitMaxSize           | int32_t                  | AsDtype('>i4')\n",
      "saveTracks           | int8_t                   | AsDtype('int8')\n",
      "trackCuts            | TString                  | AsStrings()\n",
      "\n",
      "{'sigma': array([[15., 15., 15., 15., 15., 15., 15., 15., 15., 15., 15., 15., 15.,\n",
      "        15., 15., 15., 15., 15., 15., 15., 15., 15., 15., 15., 15., 15.,\n",
      "        15., 15., 15., 15., 15., 15., 15., 15., 15., 15., 15., 15., 15.,\n",
      "        15., 15., 15., 15., 15., 15., 15., 15., 15., 15., 15., 15., 15.,\n",
      "        15., 15., 15., 15., 15., 15., 15., 15., 15., 15., 15., 15., 15.,\n",
      "        15., 15., 15., 15., 15., 15., 15., 15., 15., 15., 15., 15., 15.,\n",
      "        15., 15., 15., 15., 15., 15., 15., 15., 15., 15., 15., 15., 15.,\n",
      "        15., 15., 15., 15., 15., 15., 15., 15., 15., 15.]], dtype=float32), 'cal': array([[1., 1., 1., 1., 1., 1., 1., 1., 1., 1., 1., 1., 1., 1., 1., 1.,\n",
      "        1., 1., 1., 1., 1., 1., 1., 1., 1., 1., 1., 1., 1., 1., 1., 1.,\n",
      "        1., 1., 1., 1., 1., 1., 1., 1., 1., 1., 1., 1., 1., 1., 1., 1.,\n",
      "        1., 1., 1., 1., 1., 1., 1., 1., 1., 1., 1., 1., 1., 1., 1., 1.,\n",
      "        1., 1., 1., 1., 1., 1., 1., 1., 1., 1., 1., 1., 1., 1., 1., 1.,\n",
      "        1., 1., 1., 1., 1., 1., 1., 1., 1., 1., 1., 1., 1., 1., 1., 1.,\n",
      "        1., 1., 1., 1., 1.]], dtype=float32), 'seedThr': array([4.], dtype=float32), 'addThr': array([3.4], dtype=float32), 'skirtSize': array([3]), 'stackSize': array([256]), 'hitMaxSize': array([5000]), 'saveTracks': array([1], dtype=int8), 'trackCuts': array([''], dtype=object)}\n"
     ]
    }
   ],
   "source": [
    "file['config;1'].show()\n",
    "print()\n",
    "print(file['config;1'].arrays(library=\"np\"))"
   ]
  },
  {
   "cell_type": "code",
   "execution_count": 5,
   "id": "0b55e774",
   "metadata": {
    "scrolled": false
   },
   "outputs": [
    {
     "data": {
      "text/plain": [
       "{'runID': 13014,\n",
       " 'ohdu': 2,\n",
       " 'expoStart': 1585946435,\n",
       " 'nSat': 0,\n",
       " 'flag': 0,\n",
       " 'xMin': 3359,\n",
       " 'xMax': 3368,\n",
       " 'yMin': 24,\n",
       " 'yMax': 34,\n",
       " 'E0': 493377.22,\n",
       " 'n0': 54.0,\n",
       " 'xBary0': 3364.4707,\n",
       " 'yBary0': 29.122952,\n",
       " 'xVar0': 1.9544283,\n",
       " 'yVar0': 6.9974294,\n",
       " 'E1': 493509.25,\n",
       " 'n1': 101.0,\n",
       " 'xBary1': 3364.4712,\n",
       " 'yBary1': 29.123686,\n",
       " 'xVar1': 1.9593533,\n",
       " 'yVar1': 6.9995174,\n",
       " 'E2': 493532.72,\n",
       " 'n2': 155.0,\n",
       " 'xBary2': 3364.4707,\n",
       " 'yBary2': 29.124554,\n",
       " 'xVar2': 1.9676462,\n",
       " 'yVar2': 7.0074983,\n",
       " 'E3': 493464.2,\n",
       " 'n3': 202.0,\n",
       " 'xBary3': 3364.4705,\n",
       " 'yBary3': 29.123638,\n",
       " 'xVar3': 1.9738078,\n",
       " 'yVar3': 7.020299,\n",
       " 'nSavedPix': 202,\n",
       " 'xPix': array([3366, 3367, 3367, 3366, 3365, 3365, 3364, 3364, 3365, 3366, 3366,\n",
       "        3367, 3367, 3367, 3366, 3365, 3364, 3363, 3363, 3362, 3362, 3363,\n",
       "        3364, 3364, 3365, 3366, 3367, 3366, 3365, 3365, 3364, 3363, 3362,\n",
       "        3361, 3360, 3360, 3361, 3362, 3363, 3364, 3365, 3366, 3366, 3367,\n",
       "        3366, 3365, 3364, 3363, 3362, 3361, 3360, 3359, 3363, 3368, 3364,\n",
       "        3365, 3366, 3367, 3368, 3369, 3363, 3364, 3365, 3366, 3367, 3368,\n",
       "        3369, 3370, 3362, 3363, 3364, 3365, 3366, 3367, 3368, 3369, 3370,\n",
       "        3371, 3361, 3362, 3363, 3364, 3365, 3368, 3369, 3370, 3371, 3361,\n",
       "        3362, 3363, 3364, 3369, 3370, 3371, 3360, 3361, 3362, 3363, 3368,\n",
       "        3369, 3370, 3371, 3359, 3360, 3361, 3362, 3363, 3368, 3369, 3370,\n",
       "        3371, 3358, 3359, 3360, 3361, 3362, 3368, 3369, 3370, 3357, 3358,\n",
       "        3359, 3360, 3361, 3368, 3369, 3370, 3357, 3358, 3359, 3360, 3361,\n",
       "        3367, 3368, 3369, 3370, 3356, 3357, 3358, 3359, 3368, 3369, 3370,\n",
       "        3356, 3357, 3358, 3359, 3367, 3368, 3369, 3370, 3356, 3357, 3358,\n",
       "        3367, 3368, 3369, 3370, 3356, 3357, 3358, 3359, 3360, 3361, 3362,\n",
       "        3364, 3365, 3366, 3367, 3368, 3369, 3356, 3357, 3358, 3359, 3360,\n",
       "        3361, 3362, 3363, 3364, 3365, 3366, 3367, 3368, 3369, 3357, 3358,\n",
       "        3359, 3360, 3361, 3362, 3363, 3364, 3365, 3366, 3367, 3368, 3361,\n",
       "        3362, 3363, 3364, 3365]),\n",
       " 'yPix': array([24, 24, 25, 25, 25, 26, 26, 27, 27, 27, 26, 26, 27, 28, 28, 28, 28,\n",
       "        28, 29, 29, 30, 30, 30, 29, 29, 29, 29, 30, 30, 31, 31, 31, 31, 31,\n",
       "        31, 32, 32, 32, 32, 32, 32, 32, 31, 31, 33, 33, 33, 33, 33, 33, 33,\n",
       "        33, 34, 25, 21, 21, 21, 21, 21, 21, 22, 22, 22, 22, 22, 22, 22, 22,\n",
       "        23, 23, 23, 23, 23, 23, 23, 23, 23, 23, 24, 24, 24, 24, 24, 24, 24,\n",
       "        24, 24, 25, 25, 25, 25, 25, 25, 25, 26, 26, 26, 26, 26, 26, 26, 26,\n",
       "        27, 27, 27, 27, 27, 27, 27, 27, 27, 28, 28, 28, 28, 28, 28, 28, 28,\n",
       "        29, 29, 29, 29, 29, 29, 29, 29, 30, 30, 30, 30, 30, 30, 30, 30, 30,\n",
       "        31, 31, 31, 31, 31, 31, 31, 32, 32, 32, 32, 32, 32, 32, 32, 33, 33,\n",
       "        33, 33, 33, 33, 33, 34, 34, 34, 34, 34, 34, 34, 34, 34, 34, 34, 34,\n",
       "        34, 35, 35, 35, 35, 35, 35, 35, 35, 35, 35, 35, 35, 35, 35, 36, 36,\n",
       "        36, 36, 36, 36, 36, 36, 36, 36, 36, 36, 37, 37, 37, 37, 37]),\n",
       " 'level': array([0, 0, 0, 0, 0, 0, 0, 0, 0, 0, 0, 0, 0, 0, 0, 0, 0, 0, 0, 0, 0, 0,\n",
       "        0, 0, 0, 0, 0, 0, 0, 0, 0, 0, 0, 0, 0, 0, 0, 0, 0, 0, 0, 0, 0, 0,\n",
       "        0, 0, 0, 0, 0, 0, 0, 0, 0, 0, 3, 3, 3, 3, 3, 3, 3, 2, 2, 2, 2, 2,\n",
       "        2, 3, 3, 2, 2, 1, 1, 1, 1, 2, 2, 3, 3, 2, 2, 1, 1, 1, 1, 2, 3, 3,\n",
       "        2, 1, 1, 1, 2, 3, 3, 2, 2, 1, 1, 1, 2, 3, 3, 2, 2, 1, 1, 1, 2, 2,\n",
       "        3, 3, 3, 2, 1, 1, 1, 2, 3, 3, 2, 2, 2, 1, 1, 2, 3, 3, 2, 1, 1, 1,\n",
       "        1, 1, 2, 3, 3, 2, 2, 1, 1, 2, 3, 3, 2, 1, 1, 1, 1, 2, 3, 3, 2, 1,\n",
       "        1, 2, 2, 3, 3, 2, 1, 1, 1, 1, 1, 1, 1, 1, 1, 2, 3, 3, 2, 2, 2, 2,\n",
       "        2, 1, 1, 1, 2, 2, 2, 2, 3, 3, 3, 3, 3, 2, 2, 2, 2, 2, 3, 3, 3, 3,\n",
       "        3, 3, 3, 3]),\n",
       " 'ePix': array([ 6.27375293e+03,  5.33219482e+02,  3.96116260e+03,  4.15417773e+04,\n",
       "         7.60987671e+02,  1.41108320e+04,  1.43734177e+02,  2.89485083e+03,\n",
       "         2.54245586e+04,  1.88113535e+04,  4.17669062e+04,  2.80081665e+03,\n",
       "         1.27389624e+03,  8.84487366e+02,  1.13246113e+04,  3.15201602e+04,\n",
       "         1.22469229e+04,  8.86947571e+02,  2.57332983e+03,  1.33423294e+02,\n",
       "         1.00112616e+03,  6.71723926e+03,  1.50154121e+04,  1.30034287e+04,\n",
       "         1.44635527e+04,  3.44934082e+03,  2.45169891e+02,  1.86785059e+03,\n",
       "         9.51941504e+03,  1.81521816e+04,  3.41179648e+04,  3.00280137e+04,\n",
       "         1.10120039e+04,  1.93637463e+03,  7.95476532e+01,  2.34453903e+02,\n",
       "         2.60897241e+03,  1.04564775e+04,  1.95295586e+04,  1.70023281e+04,\n",
       "         6.92819580e+03,  1.06002869e+03,  3.71492285e+03,  2.99179535e+02,\n",
       "         6.61045105e+02,  3.75536963e+03,  1.06692305e+04,  1.61666484e+04,\n",
       "         1.28874746e+04,  5.35364697e+03,  1.30753857e+03,  1.08525124e+02,\n",
       "         6.90241318e+01,  8.82496948e+01,  1.04328442e+01,  1.76565857e+01,\n",
       "         1.05090446e+01,  4.11330748e+00,  1.73946476e+01, -1.30366540e+00,\n",
       "         1.34871540e+01, -8.36604500e+00, -1.44107211e+00, -3.39518666e-01,\n",
       "        -5.65513515e+00, -7.47806931e+00,  3.46727324e+00, -7.09781170e+00,\n",
       "         2.27846756e+01,  9.91136265e+00, -1.56682959e+01, -3.40656233e+00,\n",
       "        -7.19900894e+00, -1.73035502e+00, -5.42965364e+00,  1.05122452e+01,\n",
       "        -1.70217133e+01, -1.80325031e+01, -1.36442614e+01, -1.04629040e+01,\n",
       "        -4.87734318e+00, -6.59363317e+00,  6.13154881e-02,  4.03314781e+00,\n",
       "        -5.96513867e-01, -1.01973248e+01, -5.89360380e+00,  2.04204607e+00,\n",
       "         1.62932644e+01, -6.21761158e-02,  2.56880360e+01,  5.65121984e+00,\n",
       "        -8.72993946e+00, -2.44363365e+01,  7.74934721e+00, -9.57248306e+00,\n",
       "        -1.03133793e+01,  5.82385063e+00,  8.46483612e+00,  2.98913288e+00,\n",
       "        -1.64947662e+01, -1.83545792e+00, -2.71883845e+00, -1.77052555e+01,\n",
       "         2.49488182e+01, -1.81041641e+01,  1.27674885e+01,  1.24294329e+01,\n",
       "         1.57026653e+01,  6.15598083e-01, -2.41952400e+01,  1.31232846e+00,\n",
       "         5.46707344e+00,  1.23955929e+00,  1.42679329e+01, -4.84261847e+00,\n",
       "        -1.82589645e+01,  3.66821027e+00, -4.29123163e+00, -6.55423355e+00,\n",
       "         2.12419891e+00,  1.84356461e+01,  1.31650591e+01, -2.57067909e+01,\n",
       "        -1.75901318e+00, -7.82270908e+00,  1.25619755e+01, -1.13919125e+01,\n",
       "         1.74769139e+00, -4.95353127e+00, -1.85301638e+00,  5.22377539e+00,\n",
       "         4.55908890e+01,  1.10457163e+01,  1.18114738e+01,  1.34714870e+01,\n",
       "        -2.56391644e+00, -3.17699099e+00, -3.79134321e+00,  8.79034996e+00,\n",
       "         1.26568317e+01,  2.18201180e+01, -4.26464272e+00, -8.99880886e+00,\n",
       "         4.06514645e+00, -6.72389650e+00,  1.30157204e+01,  3.99912529e+01,\n",
       "         1.02466173e+01, -3.56517649e+00, -6.72770166e+00, -1.35004244e+01,\n",
       "        -1.10767393e+01, -4.71136141e+00,  2.90465736e+01, -1.06478243e+01,\n",
       "        -1.90589848e+01,  6.87291813e+00,  1.41814184e+00,  9.03940392e+00,\n",
       "         7.54977465e+00, -1.45965767e+01,  3.78746390e+00, -8.26145649e+00,\n",
       "         1.25004940e+01,  2.16743541e+00,  1.96364269e+01, -1.99190865e+01,\n",
       "        -1.26342115e+01,  6.59340978e-01, -1.37872581e+01, -2.82171192e+01,\n",
       "        -6.65190363e+00, -7.45307541e+00, -2.20616722e+00,  2.39628086e+01,\n",
       "         2.43015623e+00, -3.41762185e+00, -1.48182068e+01,  4.17795563e+00,\n",
       "        -2.48191762e+00,  6.18633986e+00, -1.16335649e+01,  1.54712143e+01,\n",
       "         3.93213534e+00,  2.22708702e+01, -5.40482092e+00,  6.23318970e-01,\n",
       "         5.74018335e+00,  1.82340069e+01,  1.91760235e+01,  5.41179371e+00,\n",
       "         7.84306669e+00, -1.05897980e+01,  1.60991561e+00, -1.27333808e+00,\n",
       "        -1.20057020e+01, -1.86179340e+00, -1.47351885e+01, -8.00047779e+00,\n",
       "        -1.19566078e+01,  4.70483065e+00], dtype=float32),\n",
       " 'gainCu': 1535.22,\n",
       " 'gain3Peaks': 1539.97,\n",
       " 'rawNoise': 13.645274,\n",
       " 'rawDC': 0.259615,\n",
       " 'scnNoise': 2.000687,\n",
       " 'scnDC': 0.0426216,\n",
       " 'hPixFlag': 0}"
      ]
     },
     "execution_count": 5,
     "metadata": {},
     "output_type": "execute_result"
    }
   ],
   "source": [
    "i = 0\n",
    "hit = file['hitSumm;1'].arrays(entry_start=i, entry_stop=i+1, library=\"np\")\n",
    "for key, value in hit.items():\n",
    "    hit[key] = hit[key][0]\n",
    "hit"
   ]
  },
  {
   "cell_type": "code",
   "execution_count": 6,
   "id": "6fcb833b",
   "metadata": {},
   "outputs": [
    {
     "data": {
      "text/plain": [
       "(0, 4661)"
      ]
     },
     "execution_count": 6,
     "metadata": {},
     "output_type": "execute_result"
    }
   ],
   "source": [
    "xMin = file['hitSumm;1']['xMin'].array(library=\"np\")\n",
    "xMax = file['hitSumm;1']['xMax'].array(library=\"np\")\n",
    "np.min(xMin), np.max(xMax)"
   ]
  },
  {
   "cell_type": "code",
   "execution_count": null,
   "id": "962874d1",
   "metadata": {},
   "outputs": [],
   "source": [
    "yMin = file['hitSumm;1']['yMin'].array(library=\"np\")\n",
    "yMax = file['hitSumm;1']['yMax'].array(library=\"np\")\n",
    "np.min(yMin), np.max(yMax)"
   ]
  },
  {
   "cell_type": "code",
   "execution_count": null,
   "id": "2d993f75",
   "metadata": {},
   "outputs": [],
   "source": [
    "headers = file['hitSumm;1'].arrays(['runID', 'ohdu', 'expoStart', 'nSat', 'flag'], library=\"np\")\n",
    "\n",
    "for key in headers:\n",
    "    print(f'\\'{key}\\': len(unique) = {len(np.unique(headers[key]))}')\n",
    "\n",
    "print()\n",
    "print(f'\\'ohdu\\': unique = {np.unique(headers[\"ohdu\"])}')\n",
    "print(f'\\'flag\\': unique = {np.unique(headers[\"flag\"])}')"
   ]
  },
  {
   "cell_type": "code",
   "execution_count": null,
   "id": "04c4c326",
   "metadata": {},
   "outputs": [],
   "source": [
    "runID = headers['runID']\n",
    "first_run_stop = np.argmax(runID != runID[0])\n",
    "first_run_stop"
   ]
  },
  {
   "cell_type": "code",
   "execution_count": null,
   "id": "1a99f0f4",
   "metadata": {},
   "outputs": [],
   "source": [
    "first_run = file['hitSumm;1'].arrays(entry_stop=first_run_stop, library=\"np\")"
   ]
  },
  {
   "cell_type": "code",
   "execution_count": null,
   "id": "67b55aa7",
   "metadata": {
    "scrolled": true
   },
   "outputs": [],
   "source": [
    "img = []\n",
    "for i in range(14):\n",
    "    img.append(np.zeros((950, 4800)))\n",
    "\n",
    "for i in range(len(first_run['runID'])):\n",
    "    \n",
    "    mat = img[int(first_run['ohdu'][i]) - 2]\n",
    "        \n",
    "    x = first_run['xPix'][i]\n",
    "    y = first_run['yPix'][i]\n",
    "    mat[y, x] = 1\n",
    "    #mat[y, x] = np.abs(first_run['ePix'][i])\n",
    "\n",
    "#mat = np.sqrt(mat, out=np.zeros_like(mat), where=(mat!=0))"
   ]
  },
  {
   "cell_type": "code",
   "execution_count": null,
   "id": "d39ffef4",
   "metadata": {},
   "outputs": [],
   "source": [
    "hdul = fits.HDUList()\n",
    "\n",
    "for mat in img:\n",
    "    hdu = fits.ImageHDU(mat)\n",
    "    hdul.append(hdu)\n",
    "    print(\"***\")\n",
    "\n",
    "hdul.writeto(fits_folder+'connie_data.fits', overwrite=True)\n",
    "print(\"Done\")"
   ]
  },
  {
   "cell_type": "code",
   "execution_count": null,
   "id": "330d7d4b",
   "metadata": {
    "scrolled": false
   },
   "outputs": [],
   "source": [
    "f, ax = plt.subplots(14, 1, figsize = (60, 60))\n",
    "for i in range(14):\n",
    "    ax[i].imshow(img[i])"
   ]
  },
  {
   "cell_type": "code",
   "execution_count": null,
   "id": "988124ae",
   "metadata": {},
   "outputs": [],
   "source": [
    "np.unique(first_run['ohdu'])"
   ]
  },
  {
   "cell_type": "code",
   "execution_count": null,
   "id": "4339911e",
   "metadata": {},
   "outputs": [],
   "source": [
    "sizeX = hit['xMax'] - hit['xMin'] + 7\n",
    "sizeY = hit['yMax'] - hit['yMin'] + 7\n",
    "mat = np.zeros((sizeY, sizeX), dtype='int')\n",
    "\n",
    "x = hit['xPix'] - hit['xMin'] + 3\n",
    "y = hit['yPix'] - hit['yMin'] + 3\n",
    "mat[y, x] = 1\n",
    "\n",
    "mat"
   ]
  },
  {
   "cell_type": "code",
   "execution_count": null,
   "id": "6e521b0d",
   "metadata": {
    "scrolled": false
   },
   "outputs": [],
   "source": [
    "sizeX = hit['xMax'] - hit['xMin'] + 7\n",
    "sizeY = hit['yMax'] - hit['yMin'] + 7\n",
    "mat = np.zeros((sizeY, sizeX), dtype='int')\n",
    "\n",
    "x = hit['xPix'] - hit['xMin'] + 3\n",
    "y = hit['yPix'] - hit['yMin'] + 3\n",
    "mat[y, x] = 4 - hit['level']\n",
    "\n",
    "plt.imshow(mat)"
   ]
  },
  {
   "cell_type": "code",
   "execution_count": null,
   "id": "26b0f1fb",
   "metadata": {},
   "outputs": [],
   "source": [
    "sizeX = hit['xMax'] - hit['xMin'] + 7\n",
    "sizeY = hit['yMax'] - hit['yMin'] + 7\n",
    "mat = np.zeros((sizeY, sizeX))\n",
    "\n",
    "x = hit['xPix'] - hit['xMin'] + 3\n",
    "y = hit['yPix'] - hit['yMin'] + 3\n",
    "mat[y, x] = hit['ePix']\n",
    "\n",
    "plt.imshow(mat)"
   ]
  },
  {
   "cell_type": "code",
   "execution_count": null,
   "id": "febccc77",
   "metadata": {},
   "outputs": [],
   "source": [
    "i = 2\n",
    "hit = file['hitSumm;1'].arrays(entry_start=i, entry_stop=i+1, library=\"np\")\n",
    "for key, value in hit.items():\n",
    "    hit[key] = hit[key][0]\n",
    "\n",
    "sizeX = hit['xMax'] - hit['xMin'] + 7\n",
    "sizeY = hit['yMax'] - hit['yMin'] + 7\n",
    "mat = np.zeros((sizeY, sizeX))\n",
    "\n",
    "x = hit['xPix'] - hit['xMin'] + 3\n",
    "y = hit['yPix'] - hit['yMin'] + 3\n",
    "mat[y, x] = hit['ePix']\n",
    "\n",
    "mat[3, 8] = 0\n",
    "mat[4, 8] = 0\n",
    "\n",
    "plt.imshow(mat)"
   ]
  },
  {
   "cell_type": "code",
   "execution_count": null,
   "id": "54b04db9",
   "metadata": {},
   "outputs": [],
   "source": [
    "i = 1\n",
    "hit = file['hitSumm;1'].arrays(entry_start=i, entry_stop=i+1, library=\"np\")\n",
    "for key, value in hit.items():\n",
    "    hit[key] = hit[key][0]\n",
    "\n",
    "sizeX = hit['xMax'] - hit['xMin'] + 7\n",
    "sizeY = hit['yMax'] - hit['yMin'] + 7\n",
    "mat = np.zeros((sizeY, sizeX))\n",
    "\n",
    "x = hit['xPix'] - hit['xMin'] + 3\n",
    "y = hit['yPix'] - hit['yMin'] + 3\n",
    "mat[y, x] = hit['ePix']\n",
    "\n",
    "f, ax = plt.subplots(1, 2)\n",
    "ax[0].imshow(mat)\n",
    "\n",
    "mat[3, 8] = 0\n",
    "mat[4, 8] = 0\n",
    "ax[1].imshow(mat)\n",
    "\n",
    "hit"
   ]
  }
 ],
 "metadata": {
  "kernelspec": {
   "display_name": "Python 3 (ipykernel)",
   "language": "python",
   "name": "python3"
  },
  "language_info": {
   "codemirror_mode": {
    "name": "ipython",
    "version": 3
   },
   "file_extension": ".py",
   "mimetype": "text/x-python",
   "name": "python",
   "nbconvert_exporter": "python",
   "pygments_lexer": "ipython3",
   "version": "3.8.10"
  }
 },
 "nbformat": 4,
 "nbformat_minor": 5
}
