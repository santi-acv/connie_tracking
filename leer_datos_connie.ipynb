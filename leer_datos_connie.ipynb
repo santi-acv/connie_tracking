{
 "cells": [
  {
   "cell_type": "code",
   "execution_count": 1,
   "id": "c1ee7621",
   "metadata": {},
   "outputs": [],
   "source": [
    "import numpy as np\n",
    "import pandas as pd\n",
    "import matplotlib.pyplot as plt\n",
    "\n",
    "import uproot\n",
    "import astropy.io.fits as fits\n",
    "\n",
    "from tqdm import tqdm"
   ]
  },
  {
   "cell_type": "code",
   "execution_count": 2,
   "id": "7b141f04",
   "metadata": {
    "scrolled": false
   },
   "outputs": [
    {
     "data": {
      "text/plain": [
       "['config;1', 'hitSumm;1']"
      ]
     },
     "execution_count": 2,
     "metadata": {},
     "output_type": "execute_result"
    }
   ],
   "source": [
    "# ubicación de los archivos de entrada y salida\n",
    "root_folder = r'./datos_root/'\n",
    "fits_folder = './datos_fits/'\n",
    "png_folder = './datos_png/'\n",
    "filename = 'catalog_data_3813_to_3872.root'\n",
    "orden_ccds = np.array([1, 2, 7, 8, 11, 13, 3, 5, 9, 12, 14, 4, 6, 10])\n",
    "\n",
    "# lee el archivo root\n",
    "file = uproot.open(root_folder+filename)\n",
    "file.keys()"
   ]
  },
  {
   "cell_type": "code",
   "execution_count": 3,
   "id": "4aacb9ea",
   "metadata": {
    "scrolled": false
   },
   "outputs": [
    {
     "name": "stdout",
     "output_type": "stream",
     "text": [
      "5758476 entries\n",
      "\n",
      "name                 | typename                 | interpretation                \n",
      "---------------------+--------------------------+-------------------------------\n",
      "runID                | int32_t                  | AsDtype('>i4')\n",
      "ohdu                 | int32_t                  | AsDtype('>i4')\n",
      "expoStart            | int32_t                  | AsDtype('>i4')\n",
      "nSat                 | int32_t                  | AsDtype('>i4')\n",
      "flag                 | int32_t                  | AsDtype('>i4')\n",
      "xMin                 | int32_t                  | AsDtype('>i4')\n",
      "xMax                 | int32_t                  | AsDtype('>i4')\n",
      "yMin                 | int32_t                  | AsDtype('>i4')\n",
      "yMax                 | int32_t                  | AsDtype('>i4')\n",
      "E0                   | float                    | AsDtype('>f4')\n",
      "n0                   | float                    | AsDtype('>f4')\n",
      "xBary0               | float                    | AsDtype('>f4')\n",
      "yBary0               | float                    | AsDtype('>f4')\n",
      "xVar0                | float                    | AsDtype('>f4')\n",
      "yVar0                | float                    | AsDtype('>f4')\n",
      "E1                   | float                    | AsDtype('>f4')\n",
      "n1                   | float                    | AsDtype('>f4')\n",
      "xBary1               | float                    | AsDtype('>f4')\n",
      "yBary1               | float                    | AsDtype('>f4')\n",
      "xVar1                | float                    | AsDtype('>f4')\n",
      "yVar1                | float                    | AsDtype('>f4')\n",
      "E2                   | float                    | AsDtype('>f4')\n",
      "n2                   | float                    | AsDtype('>f4')\n",
      "xBary2               | float                    | AsDtype('>f4')\n",
      "yBary2               | float                    | AsDtype('>f4')\n",
      "xVar2                | float                    | AsDtype('>f4')\n",
      "yVar2                | float                    | AsDtype('>f4')\n",
      "E3                   | float                    | AsDtype('>f4')\n",
      "n3                   | float                    | AsDtype('>f4')\n",
      "xBary3               | float                    | AsDtype('>f4')\n",
      "yBary3               | float                    | AsDtype('>f4')\n",
      "xVar3                | float                    | AsDtype('>f4')\n",
      "yVar3                | float                    | AsDtype('>f4')\n",
      "nSavedPix            | int32_t                  | AsDtype('>i4')\n",
      "xPix                 | int32_t[]                | AsJagged(AsDtype('>i4'))\n",
      "yPix                 | int32_t[]                | AsJagged(AsDtype('>i4'))\n",
      "level                | int32_t[]                | AsJagged(AsDtype('>i4'))\n",
      "ePix                 | float[]                  | AsJagged(AsDtype('>f4'))\n"
     ]
    }
   ],
   "source": [
    "# número de filas o instancias\n",
    "print(f'{file[\"hitSumm;1\"].num_entries} entries')\n",
    "print()\n",
    "\n",
    "# información sobre los atributos o columnas\n",
    "file['hitSumm;1'].show()"
   ]
  },
  {
   "cell_type": "code",
   "execution_count": 4,
   "id": "0917dfda",
   "metadata": {
    "scrolled": true
   },
   "outputs": [
    {
     "data": {
      "text/plain": [
       "(4220, 4262)"
      ]
     },
     "execution_count": 4,
     "metadata": {},
     "output_type": "execute_result"
    }
   ],
   "source": [
    "# Determina el tamaño de la imagen\n",
    "xMax = np.max(file['hitSumm;1']['xMax'].array(library=\"np\"))\n",
    "yMax = np.max(file['hitSumm;1']['yMax'].array(library=\"np\"))\n",
    "shape = (yMax+1, xMax+1)\n",
    "shape"
   ]
  },
  {
   "cell_type": "code",
   "execution_count": 5,
   "id": "2d993f75",
   "metadata": {},
   "outputs": [
    {
     "name": "stdout",
     "output_type": "stream",
     "text": [
      "'runID': len(unique) = 60\n",
      "'ohdu': len(unique) = 13\n",
      "'expoStart': len(unique) = 60\n",
      "'nSat': len(unique) = 326\n",
      "'flag': len(unique) = 22\n",
      "\n",
      "'ohdu': unique = [ 2  3  4  5  6  7  8  9 10 11 13 14 15]\n",
      "'flag': unique = [-128 -126 -124 -122 -116 -114 -112 -110 -108 -106 -100  -98    0    2\n",
      "    4    6   12   16   18   20   22   28]\n"
     ]
    }
   ],
   "source": [
    "# headers de tipo entero\n",
    "headers = file['hitSumm;1'].arrays(['runID', 'ohdu', 'expoStart', 'nSat', 'flag'], library=\"np\")\n",
    "\n",
    "# imprime el número de valores únicos\n",
    "for key in headers:\n",
    "    print(f'\\'{key}\\': len(unique) = {len(np.unique(headers[key]))}')\n",
    "\n",
    "# imprime las instancias de estos valores\n",
    "print()\n",
    "print(f'\\'ohdu\\': unique = {np.unique(headers[\"ohdu\"])}')\n",
    "print(f'\\'flag\\': unique = {np.unique(headers[\"flag\"])}')"
   ]
  },
  {
   "cell_type": "code",
   "execution_count": 6,
   "id": "a8f9f9f6",
   "metadata": {
    "scrolled": true
   },
   "outputs": [
    {
     "data": {
      "text/plain": [
       "(array([3813, 3814, 3815, 3816, 3817, 3818, 3819, 3820, 3821, 3822, 3823,\n",
       "        3824, 3825, 3826, 3827, 3828, 3829, 3830, 3831, 3832, 3833, 3834,\n",
       "        3835, 3836, 3837, 3838, 3839, 3840, 3841, 3842, 3843, 3844, 3845,\n",
       "        3846, 3847, 3848, 3849, 3850, 3851, 3852, 3853, 3854, 3855, 3856,\n",
       "        3857, 3858, 3859, 3860, 3861, 3862, 3863, 3864, 3865, 3866, 3867,\n",
       "        3868, 3869, 3870, 3871, 3872], dtype=int32),\n",
       " array([      0,   93873,  188321,  283454,  378312,  471456,  566586,\n",
       "         661576,  756046,  851154,  947072, 1043488, 1137877, 1232715,\n",
       "        1329116, 1425375, 1520933, 1616975, 1712304, 1809824, 1907591,\n",
       "        2003833, 2101787, 2196825, 2294093, 2391098, 2488593, 2585767,\n",
       "        2683813, 2781978, 2879516, 2978841, 3075862, 3172999, 3270708,\n",
       "        3368417, 3466248, 3560800, 3655759, 3749708, 3844541, 3940033,\n",
       "        4034506, 4129436, 4224954, 4321061, 4415242, 4510468, 4604665,\n",
       "        4700433, 4796883, 4893637, 4989538, 5085251, 5180339, 5275680,\n",
       "        5371959, 5468415, 5565351, 5662652, 5758476]))"
      ]
     },
     "execution_count": 6,
     "metadata": {},
     "output_type": "execute_result"
    }
   ],
   "source": [
    "# Calcula los intervalos de cada una de las corridas\n",
    "#assert np.all(headers[\"runID\"][:-1] <= headers[\"runID\"][1:]), 'La columna runID debe estar ordenada.'\n",
    "runID, stop = np.unique(headers['runID'], return_index=True)\n",
    "stop = np.append(stop, [len(headers['runID'])])\n",
    "runID, stop"
   ]
  },
  {
   "cell_type": "code",
   "execution_count": 7,
   "id": "1a99f0f4",
   "metadata": {},
   "outputs": [
    {
     "data": {
      "text/plain": [
       "93873"
      ]
     },
     "execution_count": 7,
     "metadata": {},
     "output_type": "execute_result"
    }
   ],
   "source": [
    "# selecciona las instancias de la primera corrida\n",
    "first_run = file['hitSumm;1'].arrays(entry_start=stop[0], entry_stop=stop[1], library=\"np\")\n",
    "len(first_run['runID'])"
   ]
  },
  {
   "cell_type": "code",
   "execution_count": 8,
   "id": "9bfb1e79",
   "metadata": {},
   "outputs": [],
   "source": [
    "# función para exportar un listado de matrices como imagen fits\n",
    "def mats_to_fits(img, name):\n",
    "    hdul = fits.HDUList()\n",
    "\n",
    "    for mat in img:\n",
    "        hdu = fits.ImageHDU(mat)\n",
    "        hdul.append(hdu)\n",
    "\n",
    "    hdul.writeto(fits_folder+name+'.fits', overwrite=True)"
   ]
  },
  {
   "cell_type": "code",
   "execution_count": 9,
   "id": "25ff69c7",
   "metadata": {},
   "outputs": [
    {
     "data": {
      "image/png": "[encoded data removed]",
      "text/plain": [
       "<Figure size 640x480 with 1 Axes>"
      ]
     },
     "metadata": {},
     "output_type": "display_data"
    }
   ],
   "source": [
    "# genera un histograma de los valores de energía\n",
    "energy_values = np.concatenate(list(first_run['ePix'])).ravel()\n",
    "\n",
    "#energy_values = energy_values[energy_values != 1e10]\n",
    "energy_values = energy_values.copy()\n",
    "energy_values[energy_values == 1e10] = 1e5\n",
    "\n",
    "#energy_values = energy_values[energy_values < -350]\n",
    "\n",
    "plt.hist(energy_values, log=True, bins=50)\n",
    "plt.show()"
   ]
  },
  {
   "cell_type": "markdown",
   "id": "14d54969",
   "metadata": {},
   "source": [
    "### Generar imágenes FITS y catálogo"
   ]
  },
  {
   "cell_type": "code",
   "execution_count": 10,
   "id": "67b55aa7",
   "metadata": {
    "scrolled": false
   },
   "outputs": [
    {
     "name": "stderr",
     "output_type": "stream",
     "text": [
      "100%|███████████████████████████████████| 93873/93873 [00:13<00:00, 6753.32it/s]\n"
     ]
    }
   ],
   "source": [
    "# matrices donde irán las imágenes de cada CCD\n",
    "imgs = np.zeros((14, *shape))\n",
    "\n",
    "# lista de entradas del dataframe\n",
    "data = {'muonCCD':[], 'centerX':[], 'centerY':[], 'meanX':[], 'meanY':[], 'sizeX':[], 'sizeY':[], 'asymX':[], 'asymY':[]}\n",
    "\n",
    "# itera a través de cada evento\n",
    "for i in tqdm(range(len(first_run['runID']))):\n",
    "    \n",
    "    x = first_run['xPix'][i]\n",
    "    y = first_run['yPix'][i]\n",
    "    e = first_run['ePix'][i].copy()\n",
    "    \n",
    "    # elimina los valores negativos y saturados\n",
    "    e[e < 0] = 0\n",
    "    e[e == 1e10] = 1e5\n",
    "    \n",
    "    # calcula las métricas de cada impacto\n",
    "    data['muonCCD'].append(int(first_run['ohdu'][i]) - 1)\n",
    "    data['centerX'].append((np.max(x) + np.min(x))/2)\n",
    "    data['centerY'].append((np.max(y) + np.min(y))/2)\n",
    "    data['meanX'].append(np.sum(x*e)/(np.sum(e)))\n",
    "    data['meanY'].append(np.sum(y*e)/(np.sum(e)))\n",
    "    data['sizeX'].append(np.max(x) - np.min(x))\n",
    "    data['sizeY'].append(np.max(y) - np.min(y))\n",
    "    data['asymX'].append(np.sum(x*e)/(np.sum(e)) - (np.max(x) + np.min(x))/2)\n",
    "    data['asymY'].append(np.sum(y*e)/(np.sum(e)) - (np.max(y) + np.min(y))/2)\n",
    "\n",
    "    # selecciona la matriz correspondiente al CCD\n",
    "    mat = imgs[int(first_run['ohdu'][i]) - 2]\n",
    "\n",
    "    # almacena los valores de energía\n",
    "    mat[y, x] = e\n",
    "    #mat[y, x] += 1\n",
    "\n",
    "# ordena los CCDs\n",
    "imgs = imgs[orden_ccds-1]\n",
    "\n",
    "# cambia la escala\n",
    "#mat = np.sqrt(mat, out=np.zeros_like(mat), where=(mat!=0))"
   ]
  },
  {
   "cell_type": "code",
   "execution_count": 13,
   "id": "c068e613",
   "metadata": {},
   "outputs": [],
   "source": [
    "# guarda las imagenes como archivos fits\n",
    "mats_to_fits(imgs[:,:2000,:2000], 'connie_img')"
   ]
  },
  {
   "cell_type": "code",
   "execution_count": 14,
   "id": "eb9cfc72",
   "metadata": {
    "scrolled": false
   },
   "outputs": [
    {
     "data": {
      "text/html": [
       "<div>\n",
       "<style scoped>\n",
       "    .dataframe tbody tr th:only-of-type {\n",
       "        vertical-align: middle;\n",
       "    }\n",
       "\n",
       "    .dataframe tbody tr th {\n",
       "        vertical-align: top;\n",
       "    }\n",
       "\n",
       "    .dataframe thead th {\n",
       "        text-align: right;\n",
       "    }\n",
       "</style>\n",
       "<table border=\"1\" class=\"dataframe\">\n",
       "  <thead>\n",
       "    <tr style=\"text-align: right;\">\n",
       "      <th></th>\n",
       "      <th>eventNumber</th>\n",
       "      <th>muonCCD</th>\n",
       "      <th>centerX</th>\n",
       "      <th>centerY</th>\n",
       "      <th>meanX</th>\n",
       "      <th>meanY</th>\n",
       "      <th>sizeX</th>\n",
       "      <th>sizeY</th>\n",
       "      <th>asymX</th>\n",
       "      <th>asymY</th>\n",
       "    </tr>\n",
       "  </thead>\n",
       "  <tbody>\n",
       "    <tr>\n",
       "      <th>0</th>\n",
       "      <td>0</td>\n",
       "      <td>1</td>\n",
       "      <td>1321.5</td>\n",
       "      <td>30.5</td>\n",
       "      <td>1322.239112</td>\n",
       "      <td>28.383221</td>\n",
       "      <td>13</td>\n",
       "      <td>61</td>\n",
       "      <td>0.739112</td>\n",
       "      <td>-2.116779</td>\n",
       "    </tr>\n",
       "    <tr>\n",
       "      <th>1</th>\n",
       "      <td>0</td>\n",
       "      <td>1</td>\n",
       "      <td>2692.0</td>\n",
       "      <td>12.0</td>\n",
       "      <td>2691.810627</td>\n",
       "      <td>11.799197</td>\n",
       "      <td>12</td>\n",
       "      <td>24</td>\n",
       "      <td>-0.189373</td>\n",
       "      <td>-0.200803</td>\n",
       "    </tr>\n",
       "    <tr>\n",
       "      <th>2</th>\n",
       "      <td>0</td>\n",
       "      <td>1</td>\n",
       "      <td>2837.5</td>\n",
       "      <td>50.0</td>\n",
       "      <td>2840.310109</td>\n",
       "      <td>44.198508</td>\n",
       "      <td>23</td>\n",
       "      <td>56</td>\n",
       "      <td>2.810109</td>\n",
       "      <td>-5.801492</td>\n",
       "    </tr>\n",
       "    <tr>\n",
       "      <th>3</th>\n",
       "      <td>0</td>\n",
       "      <td>1</td>\n",
       "      <td>1068.0</td>\n",
       "      <td>39.5</td>\n",
       "      <td>1067.839702</td>\n",
       "      <td>39.479412</td>\n",
       "      <td>10</td>\n",
       "      <td>9</td>\n",
       "      <td>-0.160298</td>\n",
       "      <td>-0.020588</td>\n",
       "    </tr>\n",
       "    <tr>\n",
       "      <th>4</th>\n",
       "      <td>0</td>\n",
       "      <td>1</td>\n",
       "      <td>889.0</td>\n",
       "      <td>49.0</td>\n",
       "      <td>889.234531</td>\n",
       "      <td>48.978512</td>\n",
       "      <td>8</td>\n",
       "      <td>8</td>\n",
       "      <td>0.234531</td>\n",
       "      <td>-0.021488</td>\n",
       "    </tr>\n",
       "    <tr>\n",
       "      <th>...</th>\n",
       "      <td>...</td>\n",
       "      <td>...</td>\n",
       "      <td>...</td>\n",
       "      <td>...</td>\n",
       "      <td>...</td>\n",
       "      <td>...</td>\n",
       "      <td>...</td>\n",
       "      <td>...</td>\n",
       "      <td>...</td>\n",
       "      <td>...</td>\n",
       "    </tr>\n",
       "    <tr>\n",
       "      <th>93868</th>\n",
       "      <td>0</td>\n",
       "      <td>14</td>\n",
       "      <td>1175.0</td>\n",
       "      <td>4217.5</td>\n",
       "      <td>1174.344279</td>\n",
       "      <td>4218.493344</td>\n",
       "      <td>6</td>\n",
       "      <td>3</td>\n",
       "      <td>-0.655721</td>\n",
       "      <td>0.993344</td>\n",
       "    </tr>\n",
       "    <tr>\n",
       "      <th>93869</th>\n",
       "      <td>0</td>\n",
       "      <td>14</td>\n",
       "      <td>1464.0</td>\n",
       "      <td>4217.5</td>\n",
       "      <td>1464.342775</td>\n",
       "      <td>4217.963022</td>\n",
       "      <td>6</td>\n",
       "      <td>3</td>\n",
       "      <td>0.342775</td>\n",
       "      <td>0.463022</td>\n",
       "    </tr>\n",
       "    <tr>\n",
       "      <th>93870</th>\n",
       "      <td>0</td>\n",
       "      <td>14</td>\n",
       "      <td>1834.0</td>\n",
       "      <td>4217.5</td>\n",
       "      <td>1834.101142</td>\n",
       "      <td>4218.527045</td>\n",
       "      <td>6</td>\n",
       "      <td>3</td>\n",
       "      <td>0.101142</td>\n",
       "      <td>1.027045</td>\n",
       "    </tr>\n",
       "    <tr>\n",
       "      <th>93871</th>\n",
       "      <td>0</td>\n",
       "      <td>14</td>\n",
       "      <td>1874.5</td>\n",
       "      <td>4217.5</td>\n",
       "      <td>1874.033257</td>\n",
       "      <td>4218.747490</td>\n",
       "      <td>9</td>\n",
       "      <td>3</td>\n",
       "      <td>-0.466743</td>\n",
       "      <td>1.247490</td>\n",
       "    </tr>\n",
       "    <tr>\n",
       "      <th>93872</th>\n",
       "      <td>0</td>\n",
       "      <td>14</td>\n",
       "      <td>2055.5</td>\n",
       "      <td>4217.5</td>\n",
       "      <td>2055.021024</td>\n",
       "      <td>4218.985331</td>\n",
       "      <td>7</td>\n",
       "      <td>3</td>\n",
       "      <td>-0.478976</td>\n",
       "      <td>1.485331</td>\n",
       "    </tr>\n",
       "  </tbody>\n",
       "</table>\n",
       "<p>93873 rows × 10 columns</p>\n",
       "</div>"
      ],
      "text/plain": [
       "       eventNumber  muonCCD  centerX  centerY        meanX        meanY  \\\n",
       "0                0        1   1321.5     30.5  1322.239112    28.383221   \n",
       "1                0        1   2692.0     12.0  2691.810627    11.799197   \n",
       "2                0        1   2837.5     50.0  2840.310109    44.198508   \n",
       "3                0        1   1068.0     39.5  1067.839702    39.479412   \n",
       "4                0        1    889.0     49.0   889.234531    48.978512   \n",
       "...            ...      ...      ...      ...          ...          ...   \n",
       "93868            0       14   1175.0   4217.5  1174.344279  4218.493344   \n",
       "93869            0       14   1464.0   4217.5  1464.342775  4217.963022   \n",
       "93870            0       14   1834.0   4217.5  1834.101142  4218.527045   \n",
       "93871            0       14   1874.5   4217.5  1874.033257  4218.747490   \n",
       "93872            0       14   2055.5   4217.5  2055.021024  4218.985331   \n",
       "\n",
       "       sizeX  sizeY     asymX     asymY  \n",
       "0         13     61  0.739112 -2.116779  \n",
       "1         12     24 -0.189373 -0.200803  \n",
       "2         23     56  2.810109 -5.801492  \n",
       "3         10      9 -0.160298 -0.020588  \n",
       "4          8      8  0.234531 -0.021488  \n",
       "...      ...    ...       ...       ...  \n",
       "93868      6      3 -0.655721  0.993344  \n",
       "93869      6      3  0.342775  0.463022  \n",
       "93870      6      3  0.101142  1.027045  \n",
       "93871      9      3 -0.466743  1.247490  \n",
       "93872      7      3 -0.478976  1.485331  \n",
       "\n",
       "[93873 rows x 10 columns]"
      ]
     },
     "execution_count": 14,
     "metadata": {},
     "output_type": "execute_result"
    }
   ],
   "source": [
    "df = pd.DataFrame(data)\n",
    "df.insert(0, 'eventNumber', 0)\n",
    "df"
   ]
  },
  {
   "cell_type": "markdown",
   "id": "c5383cc2",
   "metadata": {},
   "source": [
    "### Asociar manualmente impactos a tracks"
   ]
  },
  {
   "cell_type": "code",
   "execution_count": 15,
   "id": "774ac5f9",
   "metadata": {},
   "outputs": [
    {
     "data": {
      "image/png": "[encoded data removed]",
      "text/plain": [
       "<Figure size 640x480 with 1 Axes>"
      ]
     },
     "metadata": {},
     "output_type": "display_data"
    }
   ],
   "source": [
    "def view_region(imgs, x, y, r, ccd=None):\n",
    "    if len(imgs.shape) == 3:\n",
    "        plt.imshow(imgs[ccd-1][y-r:y+r+1, x-r:x+r+1], origin='lower')\n",
    "    else:\n",
    "        plt.imshow(imgs[y-r:y+r, x-r:x+r], origin='lower')\n",
    "\n",
    "view_region(imgs, ccd=1, x=1322, y=1604, r=20)"
   ]
  },
  {
   "cell_type": "code",
   "execution_count": 20,
   "id": "b7eae32b",
   "metadata": {
    "scrolled": false
   },
   "outputs": [
    {
     "name": "stdout",
     "output_type": "stream",
     "text": [
      "1449\n"
     ]
    }
   ],
   "source": [
    "def find_nearest(first_run, ccd, x, y):\n",
    "    \n",
    "    ccd = orden_ccds[ccd-1]\n",
    "    \n",
    "    for i in range(len(first_run['runID'])):\n",
    "        \n",
    "        if first_run['ohdu'][i]-1 != ccd:\n",
    "            continue\n",
    "    \n",
    "        if x in first_run['xPix'][i] and y in first_run['yPix'][i]:\n",
    "            print(i)\n",
    "\n",
    "def view_event(first_run, i, r=20):\n",
    "    img = np.zeros(shape)\n",
    "\n",
    "    x = first_run['xPix'][i]\n",
    "    y = first_run['yPix'][i]\n",
    "    e = first_run['ePix'][i].copy()\n",
    "\n",
    "    # elimina los valores negativos y saturados\n",
    "    e[e < 0] = 0\n",
    "    e[e == 1e10] = 1e5\n",
    "\n",
    "    # almacena los valores de energía\n",
    "    img[y, x] = e\n",
    "\n",
    "    # muestra el impacto\n",
    "    df = pd.DataFrame({\n",
    "        'muonCCD': int(first_run['ohdu'][i]) - 1,\n",
    "        'centerX': (np.max(x) + np.min(x))/2, 'centerY': (np.max(y) + np.min(y))/2,\n",
    "        'meanX': np.sum(x*e)/(np.sum(e)),     'meanY': np.sum(y*e)/(np.sum(e)),\n",
    "        'sizeX': np.max(x) - np.min(x),       'sizeY': np.max(y) - np.min(y),\n",
    "        'asymX': np.sum(x*e)/(np.sum(e)) - (np.max(x) + np.min(x))/2,\n",
    "        'asymY': np.sum(y*e)/(np.sum(e)) - (np.max(y) + np.min(y))/2,\n",
    "    }, index=[0])\n",
    "    view_region(img, x=int(df['meanX'][0]), y=int(df['meanY'][0]), r=r)\n",
    "    return df"
   ]
  },
  {
   "cell_type": "code",
   "execution_count": 41,
   "id": "1a062a7e",
   "metadata": {},
   "outputs": [
    {
     "data": {
      "text/html": [
       "<div>\n",
       "<style scoped>\n",
       "    .dataframe tbody tr th:only-of-type {\n",
       "        vertical-align: middle;\n",
       "    }\n",
       "\n",
       "    .dataframe tbody tr th {\n",
       "        vertical-align: top;\n",
       "    }\n",
       "\n",
       "    .dataframe thead th {\n",
       "        text-align: right;\n",
       "    }\n",
       "</style>\n",
       "<table border=\"1\" class=\"dataframe\">\n",
       "  <thead>\n",
       "    <tr style=\"text-align: right;\">\n",
       "      <th></th>\n",
       "      <th>eventNumber</th>\n",
       "      <th>muonCCD</th>\n",
       "      <th>centerX</th>\n",
       "      <th>centerY</th>\n",
       "      <th>meanX</th>\n",
       "      <th>meanY</th>\n",
       "      <th>sizeX</th>\n",
       "      <th>sizeY</th>\n",
       "      <th>asymX</th>\n",
       "      <th>asymY</th>\n",
       "    </tr>\n",
       "  </thead>\n",
       "  <tbody>\n",
       "    <tr>\n",
       "      <th>0</th>\n",
       "      <td>0</td>\n",
       "      <td>1</td>\n",
       "      <td>1321.5</td>\n",
       "      <td>30.5</td>\n",
       "      <td>1322.239112</td>\n",
       "      <td>28.383221</td>\n",
       "      <td>13</td>\n",
       "      <td>61</td>\n",
       "      <td>0.739112</td>\n",
       "      <td>-2.116779</td>\n",
       "    </tr>\n",
       "  </tbody>\n",
       "</table>\n",
       "</div>"
      ],
      "text/plain": [
       "   eventNumber  muonCCD  centerX  centerY        meanX      meanY  sizeX  \\\n",
       "0            0        1   1321.5     30.5  1322.239112  28.383221     13   \n",
       "\n",
       "   sizeY     asymX     asymY  \n",
       "0     61  0.739112 -2.116779  "
      ]
     },
     "execution_count": 41,
     "metadata": {},
     "output_type": "execute_result"
    }
   ],
   "source": [
    "df.head(1)"
   ]
  },
  {
   "cell_type": "code",
   "execution_count": 47,
   "id": "315e5dad",
   "metadata": {
    "scrolled": false
   },
   "outputs": [
    {
     "data": {
      "text/html": [
       "<div>\n",
       "<style scoped>\n",
       "    .dataframe tbody tr th:only-of-type {\n",
       "        vertical-align: middle;\n",
       "    }\n",
       "\n",
       "    .dataframe tbody tr th {\n",
       "        vertical-align: top;\n",
       "    }\n",
       "\n",
       "    .dataframe thead th {\n",
       "        text-align: right;\n",
       "    }\n",
       "</style>\n",
       "<table border=\"1\" class=\"dataframe\">\n",
       "  <thead>\n",
       "    <tr style=\"text-align: right;\">\n",
       "      <th></th>\n",
       "      <th>muonCCD</th>\n",
       "      <th>centerX</th>\n",
       "      <th>centerY</th>\n",
       "      <th>meanX</th>\n",
       "      <th>meanY</th>\n",
       "      <th>sizeX</th>\n",
       "      <th>sizeY</th>\n",
       "      <th>asymX</th>\n",
       "      <th>asymY</th>\n",
       "    </tr>\n",
       "  </thead>\n",
       "  <tbody>\n",
       "    <tr>\n",
       "      <th>0</th>\n",
       "      <td>1</td>\n",
       "      <td>1322.5</td>\n",
       "      <td>1604.0</td>\n",
       "      <td>1322.167398</td>\n",
       "      <td>1603.959099</td>\n",
       "      <td>9</td>\n",
       "      <td>10</td>\n",
       "      <td>-0.332602</td>\n",
       "      <td>-0.040901</td>\n",
       "    </tr>\n",
       "  </tbody>\n",
       "</table>\n",
       "</div>"
      ],
      "text/plain": [
       "   muonCCD  centerX  centerY        meanX        meanY  sizeX  sizeY  \\\n",
       "0        1   1322.5   1604.0  1322.167398  1603.959099      9     10   \n",
       "\n",
       "      asymX     asymY  \n",
       "0 -0.332602 -0.040901  "
      ]
     },
     "execution_count": 47,
     "metadata": {},
     "output_type": "execute_result"
    },
    {
     "data": {
      "image/png": "[encoded data removed]",
      "text/plain": [
       "<Figure size 640x480 with 1 Axes>"
      ]
     },
     "metadata": {},
     "output_type": "display_data"
    }
   ],
   "source": [
    "\n",
    "\n",
    "view_event(first_run, 1449, r=20)"
   ]
  },
  {
   "cell_type": "code",
   "execution_count": null,
   "id": "5103327c",
   "metadata": {},
   "outputs": [],
   "source": []
  },
  {
   "cell_type": "code",
   "execution_count": 32,
   "id": "2333283d",
   "metadata": {},
   "outputs": [],
   "source": [
    "track = [770, 4911]"
   ]
  },
  {
   "cell_type": "code",
   "execution_count": 22,
   "id": "880afa1b",
   "metadata": {
    "scrolled": false
   },
   "outputs": [
    {
     "name": "stdout",
     "output_type": "stream",
     "text": [
      "4911\n"
     ]
    },
    {
     "data": {
      "image/png": "[encoded data removed]",
      "text/plain": [
       "<Figure size 640x480 with 1 Axes>"
      ]
     },
     "metadata": {},
     "output_type": "display_data"
    }
   ],
   "source": [
    "ccd = 2\n",
    "x = 480\n",
    "y = 884\n",
    "\n",
    "view_region(imgs, ccd=ccd, x=x, y=y, r=20)\n",
    "find_nearest(first_run, ccd=ccd, x=x, y=y)"
   ]
  },
  {
   "cell_type": "code",
   "execution_count": 31,
   "id": "7d6acc0c",
   "metadata": {
    "scrolled": false
   },
   "outputs": [
    {
     "data": {
      "image/png": "[encoded data removed]",
      "text/plain": [
       "<Figure size 640x480 with 1 Axes>"
      ]
     },
     "metadata": {},
     "output_type": "display_data"
    }
   ],
   "source": [
    "view_event(first_run, 4911, x_=x, y_=y, r_=20)"
   ]
  }
 ],
 "metadata": {
  "kernelspec": {
   "display_name": "Python 3 (ipykernel)",
   "language": "python",
   "name": "python3"
  },
  "language_info": {
   "codemirror_mode": {
    "name": "ipython",
    "version": 3
   },
   "file_extension": ".py",
   "mimetype": "text/x-python",
   "name": "python",
   "nbconvert_exporter": "python",
   "pygments_lexer": "ipython3",
   "version": "3.10.6"
  }
 },
 "nbformat": 4,
 "nbformat_minor": 5
}
